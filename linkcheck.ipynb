{
 "cells": [
  {
   "cell_type": "markdown",
   "metadata": {},
   "source": [
    "# fastlinkcheck API\n",
    "> API for fast local and online link checking"
   ]
  },
  {
   "cell_type": "code",
   "execution_count": 1,
   "metadata": {},
   "outputs": [],
   "source": [
    "#export\n",
    "from fastcore.all import *\n",
    "from html.parser import HTMLParser\n",
    "from urllib.parse import urlparse,urlunparse"
   ]
  },
  {
   "cell_type": "markdown",
   "metadata": {},
   "source": [
    "## Find links in an HTML file"
   ]
  },
  {
   "cell_type": "code",
   "execution_count": 2,
   "metadata": {},
   "outputs": [],
   "source": [
    "#export\n",
    "class _HTMLParseAttrs(HTMLParser):\n",
    "    def reset(self):\n",
    "        super().reset()\n",
    "        self.found = set()\n",
    "    def handle_starttag(self, tag, attrs):\n",
    "        a = first(v for k,v in attrs if k in (\"src\",\"href\"))\n",
    "        if a: self.found.add(a)\n",
    "    handle_startendtag = handle_starttag"
   ]
  },
  {
   "cell_type": "code",
   "execution_count": 3,
   "metadata": {},
   "outputs": [],
   "source": [
    "#export\n",
    "def get_links(fn):\n",
    "    \"List of all links in file `fn`\"\n",
    "    h = _HTMLParseAttrs()\n",
    "    h.feed(Path(fn).read_text())\n",
    "    return L(h.found)"
   ]
  },
  {
   "cell_type": "code",
   "execution_count": 4,
   "metadata": {},
   "outputs": [
    {
     "data": {
      "text/plain": [
       "(#4) ['test.js','http://www.bing.com','//somecdn.com/doesntexist.html','http://fastlinkcheck.com/test.html']"
      ]
     },
     "execution_count": 4,
     "metadata": {},
     "output_type": "execute_result"
    }
   ],
   "source": [
    "path = Path('example')\n",
    "host = 'fastlinkcheck.com'\n",
    "get_links(path/'test.html')"
   ]
  },
  {
   "cell_type": "code",
   "execution_count": 5,
   "metadata": {},
   "outputs": [],
   "source": [
    "#export\n",
    "def _local_url(u, root, host, fname):\n",
    "    \"Change url `u` to local path if it is a local link\"\n",
    "    fpath = Path(fname).parent\n",
    "    islocal=False\n",
    "    # remove `host` prefix\n",
    "    for o in 'http://','https://','http://www.','https://www.':\n",
    "        if u.startswith(o+host): u,islocal = remove_prefix(u, o+host),True\n",
    "    # remove params, querystring, and fragment\n",
    "    p = list(urlparse(u))[:5]+['']\n",
    "    # local prefix, or no protocol or host\n",
    "    if islocal or (not p[0] and not p[1]):\n",
    "        u = p[2]\n",
    "        if u and u[0]=='/': return (root/u[1:]).resolve()\n",
    "        else: return (fpath/u).resolve()\n",
    "    # URLs without a protocol are \"protocol relative\"\n",
    "    if not p[0]: p[0]='http'\n",
    "    # mailto etc are not checked\n",
    "    if p[0] not in ('http','https'): return ''\n",
    "    return urlunparse(p)"
   ]
  },
  {
   "cell_type": "code",
   "execution_count": 6,
   "metadata": {},
   "outputs": [],
   "source": [
    "#export\n",
    "def local_urls(path, host):\n",
    "    \"`dict` mapping all HTML files in `path` to a list of locally-resolved links in that file\"\n",
    "    fns = L(path.glob('**/*.html'))+L(path.glob('**/*.htm'))\n",
    "    found = [(fn.resolve(),_local_url(link, root=path, host=host, fname=fn))\n",
    "             for fn in fns for link in get_links(fn)]\n",
    "    return groupby(found, 1, 0)"
   ]
  },
  {
   "cell_type": "markdown",
   "metadata": {},
   "source": [
    "Locally resolved links are returned as `Path` objects, and online URLs are strings."
   ]
  },
  {
   "cell_type": "code",
   "execution_count": 7,
   "metadata": {},
   "outputs": [
    {
     "data": {
      "text/plain": [
       "{Path('/home/jhoward/git/fastlinkcheck/example/test.js'): [Path('/home/jhoward/git/fastlinkcheck/example/test.html')],\n",
       " 'http://www.bing.com': [Path('/home/jhoward/git/fastlinkcheck/example/test.html')],\n",
       " 'http://somecdn.com/doesntexist.html': [Path('/home/jhoward/git/fastlinkcheck/example/test.html')],\n",
       " Path('/home/jhoward/git/fastlinkcheck/example/test.html'): [Path('/home/jhoward/git/fastlinkcheck/example/test.html')]}"
      ]
     },
     "execution_count": 7,
     "metadata": {},
     "output_type": "execute_result"
    }
   ],
   "source": [
    "links = local_urls(path, host=host)\n",
    "links"
   ]
  },
  {
   "cell_type": "markdown",
   "metadata": {},
   "source": [
    "## Finding broken links"
   ]
  },
  {
   "cell_type": "code",
   "execution_count": 8,
   "metadata": {},
   "outputs": [],
   "source": [
    "def broken_local(links):\n",
    "    \"List of items in keys of `links` that are `Path`s that do not exist\"\n",
    "    return L(o for o in links if isinstance(o,Path) and not o.exists())"
   ]
  },
  {
   "cell_type": "code",
   "execution_count": 9,
   "metadata": {},
   "outputs": [
    {
     "name": "stdout",
     "output_type": "stream",
     "text": [
      "link: /home/jhoward/git/fastlinkcheck/example/test.js\n",
      " - files: [Path('/home/jhoward/git/fastlinkcheck/example/test.html')]\n",
      "\n"
     ]
    }
   ],
   "source": [
    "for link in broken_local(links): print(f\"link: {link}\\n - files: {links[link]}\\n\")"
   ]
  },
  {
   "cell_type": "code",
   "execution_count": 10,
   "metadata": {},
   "outputs": [],
   "source": [
    "def broken_urls(links):\n",
    "    \"List of items in keys of `links` that are URLs that return a failure status code\"\n",
    "    its = L(links).filter(risinstance(str))\n",
    "    working_urls = parallel(urlcheck, its, n_workers=32, threadpool=True)\n",
    "    return L(o for o,p in zip(its,working_urls) if not p)"
   ]
  },
  {
   "cell_type": "code",
   "execution_count": 11,
   "metadata": {},
   "outputs": [
    {
     "data": {
      "text/html": [],
      "text/plain": [
       "<IPython.core.display.HTML object>"
      ]
     },
     "metadata": {},
     "output_type": "display_data"
    },
    {
     "data": {
      "text/plain": [
       "(#1) ['http://somecdn.com/doesntexist.html']"
      ]
     },
     "execution_count": 11,
     "metadata": {},
     "output_type": "execute_result"
    }
   ],
   "source": [
    "broken_urls(links)"
   ]
  },
  {
   "cell_type": "code",
   "execution_count": 17,
   "metadata": {},
   "outputs": [],
   "source": [
    "@call_parse\n",
    "def fastlinkcheck(path:Param(\"Root directory searched recursively for HTML files\", str),\n",
    "                  host:Param(\"Host and path (without protocol) of web server\", str)=''):\n",
    "    links = local_urls(path, host=host)\n",
    "    print('## Failed URLs\\n')\n",
    "    for link in broken_urls(links): print(f\"link: {link}\\n - files: {links[link]}\\n\")\n",
    "    print('## Local missing files\\n')\n",
    "    for link in broken_local(links): print(f\"link: {link}\\n - files: {links[link]}\\n\")"
   ]
  },
  {
   "cell_type": "code",
   "execution_count": 18,
   "metadata": {},
   "outputs": [
    {
     "name": "stdout",
     "output_type": "stream",
     "text": [
      "## Failed URLs\n",
      "\n"
     ]
    },
    {
     "data": {
      "text/html": [],
      "text/plain": [
       "<IPython.core.display.HTML object>"
      ]
     },
     "metadata": {},
     "output_type": "display_data"
    },
    {
     "name": "stdout",
     "output_type": "stream",
     "text": [
      "link: http://somecdn.com/doesntexist.html\n",
      " - files: [Path('/home/jhoward/git/fastlinkcheck/example/test.html')]\n",
      "\n",
      "## Local missing files\n",
      "\n",
      "link: /home/jhoward/git/fastlinkcheck/example/test.js\n",
      " - files: [Path('/home/jhoward/git/fastlinkcheck/example/test.html')]\n",
      "\n"
     ]
    }
   ],
   "source": [
    "fastlinkcheck(path, host)"
   ]
  },
  {
   "cell_type": "code",
   "execution_count": 7,
   "metadata": {},
   "outputs": [],
   "source": [
    "# path = Path('../fast.ai/_site/')\n",
    "# host = 'fast.ai'"
   ]
  },
  {
   "cell_type": "code",
   "execution_count": null,
   "metadata": {},
   "outputs": [],
   "source": []
  }
 ],
 "metadata": {
  "kernelspec": {
   "display_name": "Python 3",
   "language": "python",
   "name": "python3"
  },
  "language_info": {
   "codemirror_mode": {
    "name": "ipython",
    "version": 3
   },
   "file_extension": ".py",
   "mimetype": "text/x-python",
   "name": "python",
   "nbconvert_exporter": "python",
   "pygments_lexer": "ipython3",
   "version": "3.8.3"
  },
  "toc": {
   "base_numbering": 1,
   "nav_menu": {},
   "number_sections": false,
   "sideBar": true,
   "skip_h1_title": false,
   "title_cell": "Table of Contents",
   "title_sidebar": "Contents",
   "toc_cell": false,
   "toc_position": {},
   "toc_section_display": true,
   "toc_window_display": false
  }
 },
 "nbformat": 4,
 "nbformat_minor": 4
}
