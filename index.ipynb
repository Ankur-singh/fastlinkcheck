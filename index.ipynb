{
 "cells": [
  {
   "cell_type": "code",
   "execution_count": null,
   "metadata": {},
   "outputs": [],
   "source": [
    "#hide"
   ]
  },
  {
   "cell_type": "markdown",
   "metadata": {},
   "source": [
    "# fastlinkcheck\n",
    "\n",
    "> Check for broken external and internal links.  "
   ]
  },
  {
   "cell_type": "markdown",
   "metadata": {},
   "source": [
    "This is useful for checking for broken links in static site generators."
   ]
  },
  {
   "cell_type": "markdown",
   "metadata": {},
   "source": [
    "## Install"
   ]
  },
  {
   "cell_type": "markdown",
   "metadata": {},
   "source": [
    "`pip install fastlinkcheck`"
   ]
  },
  {
   "cell_type": "markdown",
   "metadata": {},
   "source": [
    "## Usage"
   ]
  },
  {
   "cell_type": "code",
   "execution_count": null,
   "metadata": {},
   "outputs": [],
   "source": [
    "from fastlinkcheck import link_check"
   ]
  },
  {
   "cell_type": "code",
   "execution_count": null,
   "metadata": {},
   "outputs": [
    {
     "data": {
      "text/html": [],
      "text/plain": [
       "<IPython.core.display.HTML object>"
      ]
     },
     "metadata": {},
     "output_type": "display_data"
    },
    {
     "data": {
      "text/markdown": [
       "- 'http://somecdn.com/doesntexist.html' was found in the following pages:\n",
       "  - `/Users/hamelsmu/github/fastlinkcheck/_example/test.html`\n",
       "- Path('/Users/hamelsmu/github/fastlinkcheck/_example/test.js') was found in the following pages:\n",
       "  - `/Users/hamelsmu/github/fastlinkcheck/_example/test.html`"
      ],
      "text/plain": [
       "- 'http://somecdn.com/doesntexist.html' was found in the following pages:\n",
       "  - `/Users/hamelsmu/github/fastlinkcheck/_example/test.html`\n",
       "- Path('/Users/hamelsmu/github/fastlinkcheck/_example/test.js') was found in the following pages:\n",
       "  - `/Users/hamelsmu/github/fastlinkcheck/_example/test.html`"
      ]
     },
     "execution_count": null,
     "metadata": {},
     "output_type": "execute_result"
    }
   ],
   "source": [
    "link_check(path='_example', host='fastlinkcheck.com')"
   ]
  },
  {
   "cell_type": "markdown",
   "metadata": {},
   "source": [
    "You can choose to ignore files with a a plain-text file containing a list of urls to ignore.  For example, the file `linkcheck.rc` contains a list of urls I want to ignore:"
   ]
  },
  {
   "cell_type": "code",
   "execution_count": null,
   "metadata": {},
   "outputs": [
    {
     "name": "stdout",
     "output_type": "stream",
     "text": [
      "test.js\n",
      "https://www.google.com\n",
      "\n"
     ]
    }
   ],
   "source": [
    "with open('_example/linkcheck.rc', 'r') as f: print(f.read())"
   ]
  },
  {
   "cell_type": "markdown",
   "metadata": {},
   "source": [
    "In this case `example/test.js` will be filtered out from the list:"
   ]
  },
  {
   "cell_type": "code",
   "execution_count": null,
   "metadata": {},
   "outputs": [
    {
     "data": {
      "text/html": [],
      "text/plain": [
       "<IPython.core.display.HTML object>"
      ]
     },
     "metadata": {},
     "output_type": "display_data"
    },
    {
     "data": {
      "text/markdown": [
       "- 'http://somecdn.com/doesntexist.html' was found in the following pages:\n",
       "  - `/Users/hamelsmu/github/fastlinkcheck/_example/test.html`"
      ],
      "text/plain": [
       "- 'http://somecdn.com/doesntexist.html' was found in the following pages:\n",
       "  - `/Users/hamelsmu/github/fastlinkcheck/_example/test.html`"
      ]
     },
     "execution_count": null,
     "metadata": {},
     "output_type": "execute_result"
    }
   ],
   "source": [
    "link_check(path='_example', host='fastlinkcheck.com', config_file='_example/linkcheck.rc')"
   ]
  },
  {
   "cell_type": "markdown",
   "metadata": {},
   "source": [
    "### CLI Function"
   ]
  },
  {
   "cell_type": "markdown",
   "metadata": {},
   "source": [
    "`check` can also be called use from the command line like this:\n",
    "\n",
    "> Note: the `!` command in Jupyter allows you [run shell commands](https://stackoverflow.com/questions/38694081/executing-terminal-commands-in-jupyter-notebook/48529220)\n",
    "\n",
    "The `-h` or `--help` flag will allow you to see the command line docs:"
   ]
  },
  {
   "cell_type": "code",
   "execution_count": null,
   "metadata": {},
   "outputs": [
    {
     "name": "stdout",
     "output_type": "stream",
     "text": [
      "usage: link_check [-h] [--host HOST] [--config_file CONFIG_FILE]\r\n",
      "                  [--actions_output] [--exit_on_found] [--print_logs] [--pdb]\r\n",
      "                  [--xtra XTRA]\r\n",
      "                  path\r\n",
      "\r\n",
      "Check for broken links recursively in `path`.\r\n",
      "\r\n",
      "positional arguments:\r\n",
      "  path                  Root directory searched recursively for HTML files\r\n",
      "\r\n",
      "optional arguments:\r\n",
      "  -h, --help            show this help message and exit\r\n",
      "  --host HOST           Host and path (without protocol) of web server\r\n",
      "                        (default: )\r\n",
      "  --config_file CONFIG_FILE\r\n",
      "                        Location of file with urls to ignore\r\n",
      "  --actions_output      Toggle GitHub Actions output on/off (default: False)\r\n",
      "  --exit_on_found       (CLI Only) Exit with status code 1 if broken links are\r\n",
      "                        found (default: False)\r\n",
      "  --print_logs          Toggle printing logs to stdout. (default: False)\r\n",
      "  --pdb                 Run in pdb debugger (default: False)\r\n",
      "  --xtra XTRA           Parse for additional args (default: '')\r\n"
     ]
    }
   ],
   "source": [
    "!link_check -h"
   ]
  }
 ],
 "metadata": {
  "kernelspec": {
   "display_name": "Python 3",
   "language": "python",
   "name": "python3"
  }
 },
 "nbformat": 4,
 "nbformat_minor": 2
}
